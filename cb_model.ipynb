{
  "nbformat": 4,
  "nbformat_minor": 0,
  "metadata": {
    "colab": {
      "provenance": [],
      "authorship_tag": "ABX9TyPyFRUbE/qpNZTy3nO/0QB5",
      "include_colab_link": true
    },
    "kernelspec": {
      "name": "python3",
      "display_name": "Python 3"
    },
    "language_info": {
      "name": "python"
    }
  },
  "cells": [
    {
      "cell_type": "markdown",
      "metadata": {
        "id": "view-in-github",
        "colab_type": "text"
      },
      "source": [
        "<a href=\"https://colab.research.google.com/github/zxita/chargeback_predict/blob/main/cb_model.ipynb\" target=\"_parent\"><img src=\"https://colab.research.google.com/assets/colab-badge.svg\" alt=\"Open In Colab\"/></a>"
      ]
    },
    {
      "cell_type": "code",
      "source": [
        "from google.colab import drive\n",
        "drive.mount(\"/content/gdrive\")\n",
        "%cd /content/gdrive/MyDrive/Colab Notebooks/"
      ],
      "metadata": {
        "colab": {
          "base_uri": "https://localhost:8080/"
        },
        "id": "-Wio39bwyhCg",
        "outputId": "4b16b5fb-01a1-4cd7-a89e-3446f1993c90"
      },
      "execution_count": 2,
      "outputs": [
        {
          "output_type": "stream",
          "name": "stdout",
          "text": [
            "Mounted at /content/gdrive\n",
            "/content/gdrive/MyDrive/Colab Notebooks\n"
          ]
        }
      ]
    },
    {
      "cell_type": "code",
      "source": [
        "import pandas as pd\n",
        "from sklearn.model_selection import train_test_split\n",
        "from itertools import count\n",
        "from imblearn.over_sampling import SMOTE\n",
        "from sklearn.ensemble import RandomForestClassifier\n",
        "from sklearn.metrics import accuracy_score, confusion_matrix, classification_report,roc_auc_score\n",
        "import numpy as np\n",
        "\n",
        "\n",
        "# Define dataset paths\n",
        "transaction_file = \"transactions sample.xlsx\"\n",
        "chargeback_file = \"chargeback sample.xlsx\"\n",
        "\n",
        "# Load the data\n",
        "transaction_data = pd.read_excel(transaction_file)\n",
        "chargeback_data = pd.read_excel(chargeback_file)\n",
        "\n",
        "# Merging the data based on common identifier 'merchant_reference_number'\n",
        "merged_data = pd.merge(transaction_data, chargeback_data,\n",
        "                       on=\"merchant_reference_number\",\n",
        "                       how=\"left\",\n",
        "                       suffixes=(\"_transaction\", \"_chargeback\")\n",
        "                      )\n",
        "\n",
        "# Create the target variable (1 for chargeback, 0 otherwise)\n",
        "merged_data['Chargeback'] = np.where(merged_data['chargeback_reason'].notnull(), 1, 0)\n",
        "#merged_data['chargeback_occurred'] = np.where(merged_data['retrieval_reference_number'].isin(chargeback_data['retrieval_reference_number']), 1, 0)\n",
        "\n",
        "\n",
        "# Clean the dataset by dropping unnecessary columns\n",
        "columns_to_drop = ['payment_month','request_id', 'merchant_reference_number','request_id','paid_currency',\n",
        "                  'account_suffix', 'applications','transaction_reference_number','bill_payment_month',\n",
        "                   'chargeback_currency','chargeback_amount']\n",
        "merged_data.drop(columns=columns_to_drop, inplace=True)\n",
        "\n",
        "#Exporting the merged and clean file\n",
        "#merged_data.to_excel('cleaned_merged_data.xlsx', index=False)\n",
        "\n",
        "# Encode categorical variables (one-hot encoding)\n",
        "merged_data = pd.get_dummies(merged_data, columns=['chargeback_reason', 'payment_method'], drop_first=True)\n",
        "print(merged_data.head())\n",
        "\n",
        "# Split data into features and target\n",
        "X = merged_data.drop(columns=[\"Chargeback\"])\n",
        "y = merged_data[\"Chargeback\"]\n",
        "\n",
        "print(X.head())\n",
        "print(y.head())\n",
        "\n",
        "#Checking the sample size\n",
        "unique,counts = np.unique(y,return_counts=True)\n",
        "y_sample_size = {i:j for (i,j) in zip(unique,counts)}\n",
        "print(y_sample_size)\n",
        "#print(unique,counts)\n",
        "\n",
        "\n",
        "\n",
        "#SMOTE oversampling to handle class imbalance\n",
        "\n",
        "#Handling categorical data (in X)\n",
        "X = pd.get_dummies(X,columns=['service_name'], drop_first=True)\n",
        "#Verify if there are any left categorical values left\n",
        "print(X.select_dtypes(include=['object', 'category']).columns)\n",
        "print(X.dtypes)\n",
        "\n",
        "# Check for and handle missing values\n",
        "print(\"Missing values per column before handling:\")\n",
        "print(X.isnull().sum())\n",
        "\n",
        "# Fill missing values with 0\n",
        "X = X.fillna(0)\n",
        "\n",
        "# Verify no missing values remain\n",
        "print(\"Missing values per column after handling:\")\n",
        "print(X.isnull().sum().sum())\n",
        "\n",
        "\n",
        "# Apply SMOTE\n",
        "smote = SMOTE(random_state=12)\n",
        "X_resampled, y_resampled = smote.fit_resample(X, y)\n",
        "print(\"SMOTE applied successfully!\")\n",
        "\n",
        "\n",
        "# Split into training and testing sets\n",
        "X_train, X_test, y_train, y_test = train_test_split(X_resampled, y_resampled, test_size=0.2, random_state=42)\n",
        "\n",
        "# Train a Random Forest model\n",
        "model = RandomForestClassifier(random_state=42)\n",
        "model.fit(X_train, y_train)\n",
        "\n",
        "# Evaluate the model\n",
        "y_pred = model.predict(X_test)\n",
        "print(\"Classification Report:\")\n",
        "print(classification_report(y_test, y_pred))\n",
        "print(\"ROC AUC Score:\", roc_auc_score(y_test, model.predict_proba(X_test)[:, 1]))\n",
        "\n",
        "\n"
      ],
      "metadata": {
        "id": "j59EYC0TDkr5",
        "collapsed": true
      },
      "execution_count": 23,
      "outputs": []
    },
    {
      "cell_type": "code",
      "source": [
        "# Ensuring we split the data before training\n",
        "\n",
        "# Split the original dataset into train and test sets\n",
        "X_train, X_test, y_train, y_test = train_test_split(X, y, test_size=0.2, random_state=42, stratify=y)\n",
        "\n",
        "print(X_train.head())\n",
        "print(y_train.head())\n",
        "\n",
        "# Apply SMOTE on the training data\n",
        "smote = SMOTE(random_state=12)\n",
        "X_train_resampled, y_train_resampled = smote.fit_resample(X_train, y_train)\n",
        "\n",
        "# Train the model\n",
        "model = RandomForestClassifier(random_state=42)\n",
        "model.fit(X_train_resampled, y_train_resampled)\n",
        "\n",
        "# Make predictions on the test set\n",
        "y_pred = model.predict(X_test)\n",
        "\n",
        "# Evaluate the model again\n",
        "print(\"Classification Report:\")\n",
        "print(classification_report(y_test, y_pred))\n",
        "\n",
        "y_pred_prob = model.predict_proba(X_test)[:, 1]\n",
        "roc_auc = roc_auc_score(y_test, y_pred_prob)\n",
        "print(f\"ROC AUC Score: {roc_auc}\")\n"
      ],
      "metadata": {
        "colab": {
          "base_uri": "https://localhost:8080/"
        },
        "id": "vQ7r6ed-6nOV",
        "outputId": "74423fad-84cd-4e98-abdf-d62b3ea3a1fa"
      },
      "execution_count": null,
      "outputs": [
        {
          "output_type": "stream",
          "name": "stdout",
          "text": [
            "       retrieval_reference_number_transaction  paid_amount  \\\n",
            "15370                            3.153157e+11        100.0   \n",
            "19739                            3.169033e+11       1500.0   \n",
            "74457                            4.148055e+11        200.0   \n",
            "18625                            3.174168e+11         50.0   \n",
            "75410                            4.151189e+11       9000.0   \n",
            "\n",
            "       retrieval_reference_number_chargeback  \\\n",
            "15370                                    0.0   \n",
            "19739                                    0.0   \n",
            "74457                                    0.0   \n",
            "18625                                    0.0   \n",
            "75410                                    0.0   \n",
            "\n",
            "       chargeback_reason_11.3 VCR No Authorization  \\\n",
            "15370                                        False   \n",
            "19739                                        False   \n",
            "74457                                        False   \n",
            "18625                                        False   \n",
            "75410                                        False   \n",
            "\n",
            "       chargeback_reason_12.1 VCR Late Presentment  \\\n",
            "15370                                        False   \n",
            "19739                                        False   \n",
            "74457                                        False   \n",
            "18625                                        False   \n",
            "75410                                        False   \n",
            "\n",
            "       chargeback_reason_12.5 VCR Incorrect Amount  \\\n",
            "15370                                        False   \n",
            "19739                                        False   \n",
            "74457                                        False   \n",
            "18625                                        False   \n",
            "75410                                        False   \n",
            "\n",
            "       chargeback_reason_13.1 VCR Merchandise/Services Not Received  \\\n",
            "15370                                              False              \n",
            "19739                                              False              \n",
            "74457                                              False              \n",
            "18625                                              False              \n",
            "75410                                              False              \n",
            "\n",
            "       chargeback_reason_13.2 VCR Cancelled Recurring Transaction  \\\n",
            "15370                                              False            \n",
            "19739                                              False            \n",
            "74457                                              False            \n",
            "18625                                              False            \n",
            "75410                                              False            \n",
            "\n",
            "       chargeback_reason_4536 Late presentment  \\\n",
            "15370                                    False   \n",
            "19739                                    False   \n",
            "74457                                    False   \n",
            "18625                                    False   \n",
            "75410                                    False   \n",
            "\n",
            "       chargeback_reason_4808 Requested/required authorization not obtained  \\\n",
            "15370                                              False                      \n",
            "19739                                              False                      \n",
            "74457                                              False                      \n",
            "18625                                              False                      \n",
            "75410                                              False                      \n",
            "\n",
            "       ...  service_name_Renew visa  service_name_Traffic Fines  \\\n",
            "15370  ...                    False                       False   \n",
            "19739  ...                    False                       False   \n",
            "74457  ...                    False                       False   \n",
            "18625  ...                    False                       False   \n",
            "75410  ...                    False                       False   \n",
            "\n",
            "       service_name_Traffic fines  \\\n",
            "15370                       False   \n",
            "19739                       False   \n",
            "74457                       False   \n",
            "18625                       False   \n",
            "75410                       False   \n",
            "\n",
            "       service_name_U1 Student (who is in Rwanda for study purposes)  \\\n",
            "15370                                              False               \n",
            "19739                                              False               \n",
            "74457                                              False               \n",
            "18625                                              False               \n",
            "75410                                              False               \n",
            "\n",
            "       service_name_V1 Holiday (Single Entry)  \\\n",
            "15370                                   False   \n",
            "19739                                   False   \n",
            "74457                                   False   \n",
            "18625                                   False   \n",
            "75410                                   False   \n",
            "\n",
            "       service_name_V11 East Africa Visa  service_name_V5 Conference Visa  \\\n",
            "15370                              False                            False   \n",
            "19739                              False                            False   \n",
            "74457                              False                            False   \n",
            "18625                              False                            False   \n",
            "75410                              False                            False   \n",
            "\n",
            "       service_name_Visa application  \\\n",
            "15370                          False   \n",
            "19739                          False   \n",
            "74457                          False   \n",
            "18625                          False   \n",
            "75410                          False   \n",
            "\n",
            "       service_name_Visit Schedule of N/AtioN/Al Museums of Rwanda  \\\n",
            "15370                                              False             \n",
            "19739                                              False             \n",
            "74457                                              False             \n",
            "18625                                              False             \n",
            "75410                                              False             \n",
            "\n",
            "       service_name_e-Passport first application  \n",
            "15370                                      False  \n",
            "19739                                      False  \n",
            "74457                                      False  \n",
            "18625                                      False  \n",
            "75410                                      False  \n",
            "\n",
            "[5 rows x 61 columns]\n",
            "15370    0\n",
            "19739    0\n",
            "74457    0\n",
            "18625    0\n",
            "75410    0\n",
            "Name: Chargeback, dtype: int64\n"
          ]
        }
      ]
    },
    {
      "cell_type": "code",
      "source": [
        "# Model cross validation\n",
        "from sklearn.model_selection import cross_val_score\n",
        "\n",
        "# Perform cross-validation (on the original, unresampled training set)\n",
        "cv_scores = cross_val_score(model, X_train, y_train, cv=5, scoring='roc_auc')\n",
        "print(\"Cross-Validation AUC Scores:\", cv_scores)\n",
        "print(\"Mean CV AUC Score:\", cv_scores.mean())\n"
      ],
      "metadata": {
        "colab": {
          "base_uri": "https://localhost:8080/"
        },
        "id": "IAHEIgBo7dpm",
        "outputId": "fda00ce3-ce2d-44cd-cd1a-a4e1bbd5162e"
      },
      "execution_count": null,
      "outputs": [
        {
          "output_type": "stream",
          "name": "stdout",
          "text": [
            "Cross-Validation AUC Scores: [1. 1. 1. 1. 1.]\n",
            "Mean CV AUC Score: 1.0\n"
          ]
        }
      ]
    },
    {
      "cell_type": "code",
      "source": [
        "# Testing on a whole new dataset\n",
        "new_data = pd.read_csv(\"new_transactions.csv\")\n",
        "\n",
        "# Preprocess the new data (same as training data)\n",
        "# Example: Handle missing values, encode categorical variables, etc.\n",
        "new_data = new_data.fillna(0)  # Replace NaNs with 0\n",
        "new_data = pd.get_dummies(new_data, drop_first=True)\n",
        "\n",
        "# Ensure the columns match the training data\n",
        "new_data = new_data.reindex(columns=X_train.columns, fill_value=0)\n",
        "\n",
        "# Make predictions on the new dataset\n",
        "new_predictions = model.predict(new_data)\n",
        "print(\"Predictions on New Dataset:\", new_predictions)\n"
      ],
      "metadata": {
        "id": "s0abS1X3trHk"
      },
      "execution_count": null,
      "outputs": []
    },
    {
      "cell_type": "code",
      "source": [
        "# Preparing model deployment\n",
        "import joblib\n",
        "\n",
        "# Save the model to a file\n",
        "joblib.dump(model, \"chargeback_model.pkl\")\n",
        "\n",
        "# Save preprocessing (e.g., column structure)\n",
        "joblib.dump(X_train.columns, \"model_columns.pkl\")\n",
        "\n",
        "\n",
        "# Build a prediction fx\n",
        "def preprocess_and_predict(input_data, model_file=\"chargeback_model.pkl\", columns_file=\"model_columns.pkl\"):\n",
        "    # Load the model and columns\n",
        "    model = joblib.load(model_file)\n",
        "    model_columns = joblib.load(columns_file)\n",
        "\n",
        "    # Preprocess input data\n",
        "    input_data = pd.DataFrame(input_data)\n",
        "    input_data = input_data.fillna(0)\n",
        "    input_data = pd.get_dummies(input_data, drop_first=True)\n",
        "    input_data = input_data.reindex(columns=model_columns, fill_value=0)\n",
        "\n",
        "    # Make predictions\n",
        "    predictions = model.predict(input_data)\n",
        "    probabilities = model.predict_proba(input_data)[:, 1]  # Probability of class 1 (Chargeback)\n",
        "    return predictions, probabilities\n"
      ],
      "metadata": {
        "collapsed": true,
        "id": "owWnnJhx8QQE"
      },
      "execution_count": null,
      "outputs": []
    },
    {
      "cell_type": "markdown",
      "source": [],
      "metadata": {
        "id": "JJ0EyknGmVcM"
      }
    },
    {
      "cell_type": "code",
      "source": [
        "# Model deployment with Flask\n",
        "!pip install flask pyngrok\n",
        "from flask import Flask, request, jsonify\n",
        "import joblib\n",
        "\n",
        "# Load the saved model\n",
        "model = joblib.load(\"chargeback_model.pkl\")\n",
        "model_columns = joblib.load(\"model_columns.pkl\")\n",
        "\n",
        "# Define Flask app\n",
        "app = Flask(__name__)\n",
        "\n",
        "@app.route('/predict', methods=['POST'])\n",
        "def predict():\n",
        "    input_json = request.get_json()\n",
        "    predictions, probabilities = preprocess_and_predict(input_json)\n",
        "    return jsonify({\"predictions\": predictions.tolist(), \"probabilities\": probabilities.tolist()})\n"
      ],
      "metadata": {
        "colab": {
          "base_uri": "https://localhost:8080/"
        },
        "id": "m5WRuAt83AQE",
        "outputId": "b2e657d7-6990-48e6-dda6-4334781d4476"
      },
      "execution_count": null,
      "outputs": [
        {
          "output_type": "stream",
          "name": "stdout",
          "text": [
            "Requirement already satisfied: flask in /usr/local/lib/python3.10/dist-packages (3.0.3)\n",
            "Requirement already satisfied: pyngrok in /usr/local/lib/python3.10/dist-packages (7.2.1)\n",
            "Requirement already satisfied: Werkzeug>=3.0.0 in /usr/local/lib/python3.10/dist-packages (from flask) (3.1.3)\n",
            "Requirement already satisfied: Jinja2>=3.1.2 in /usr/local/lib/python3.10/dist-packages (from flask) (3.1.4)\n",
            "Requirement already satisfied: itsdangerous>=2.1.2 in /usr/local/lib/python3.10/dist-packages (from flask) (2.2.0)\n",
            "Requirement already satisfied: click>=8.1.3 in /usr/local/lib/python3.10/dist-packages (from flask) (8.1.7)\n",
            "Requirement already satisfied: blinker>=1.6.2 in /usr/local/lib/python3.10/dist-packages (from flask) (1.9.0)\n",
            "Requirement already satisfied: PyYAML>=5.1 in /usr/local/lib/python3.10/dist-packages (from pyngrok) (6.0.2)\n",
            "Requirement already satisfied: MarkupSafe>=2.0 in /usr/local/lib/python3.10/dist-packages (from Jinja2>=3.1.2->flask) (3.0.2)\n"
          ]
        }
      ]
    },
    {
      "cell_type": "code",
      "source": [
        "!ngrok authtoken 2q4YnaVvAZpsdoVeyxMkBKVqj2Q_2pE1vopnuzcRkLJaDh38Z\n",
        "\n",
        "from pyngrok import ngrok\n",
        "\n",
        "# Start ngrok on the specified port\n",
        "public_url = ngrok.connect(5000)  # Replace 5000 with the port your Flask app is running on\n",
        "print(f\"Public URL: {public_url}\")\n",
        "\n",
        "# Running the Flask app\n",
        "#app.run(port=5000)\n",
        "if __name__ == \"__main__\":\n",
        "    app.run(port=5000, debug=True)\n"
      ],
      "metadata": {
        "colab": {
          "base_uri": "https://localhost:8080/"
        },
        "id": "n5M1WSGo3HrU",
        "outputId": "6fee2086-e172-41c2-b6cf-d92076a5a01b"
      },
      "execution_count": null,
      "outputs": [
        {
          "output_type": "stream",
          "name": "stdout",
          "text": [
            "Authtoken saved to configuration file: /root/.config/ngrok/ngrok.yml\n",
            "Public URL: NgrokTunnel: \"https://dcf9-34-125-195-0.ngrok-free.app\" -> \"http://localhost:5000\"\n",
            " * Serving Flask app '__main__'\n",
            " * Debug mode: on\n"
          ]
        },
        {
          "output_type": "stream",
          "name": "stderr",
          "text": [
            "INFO:werkzeug:\u001b[31m\u001b[1mWARNING: This is a development server. Do not use it in a production deployment. Use a production WSGI server instead.\u001b[0m\n",
            " * Running on http://127.0.0.1:5000\n",
            "INFO:werkzeug:\u001b[33mPress CTRL+C to quit\u001b[0m\n",
            "INFO:werkzeug: * Restarting with stat\n",
            "WARNING:pyngrok.process.ngrok:t=2024-12-11T13:54:58+0000 lvl=warn msg=\"Stopping forwarder\" name=http-5000-5738d110-9ff7-4eb1-ad3d-edb5e31a0269 acceptErr=\"failed to accept connection: Listener closed\"\n"
          ]
        }
      ]
    },
    {
      "cell_type": "code",
      "source": [
        "# Keep the Flask app running\n",
        "app = Flask(__name__)\n",
        "\n",
        "@app.route(\"/\")\n",
        "def home():\n",
        "    return \"Flask is running!\"\n",
        "\n",
        "# Start ngrok and Flask in background\n",
        "public_url = ngrok.connect(5000)\n",
        "print(f\"Public URL: {public_url}\")\n",
        "app.run(port=5000, debug=False, use_reloader=False)\n"
      ],
      "metadata": {
        "colab": {
          "base_uri": "https://localhost:8080/"
        },
        "id": "geJIOio5ABI7",
        "outputId": "51aba0b6-e56e-4b1a-ad9d-43f0fa885be3"
      },
      "execution_count": null,
      "outputs": [
        {
          "output_type": "stream",
          "name": "stdout",
          "text": [
            "Public URL: NgrokTunnel: \"https://e584-34-125-195-0.ngrok-free.app\" -> \"http://localhost:5000\"\n",
            " * Serving Flask app '__main__'\n",
            " * Debug mode: off\n"
          ]
        },
        {
          "output_type": "stream",
          "name": "stderr",
          "text": [
            "INFO:werkzeug:\u001b[31m\u001b[1mWARNING: This is a development server. Do not use it in a production deployment. Use a production WSGI server instead.\u001b[0m\n",
            " * Running on http://127.0.0.1:5000\n",
            "INFO:werkzeug:\u001b[33mPress CTRL+C to quit\u001b[0m\n"
          ]
        }
      ]
    },
    {
      "cell_type": "code",
      "source": [
        "\n",
        "public_url = ngrok.connect(5000)\n",
        "print(f\"Public URL: {public_url}\")\n"
      ],
      "metadata": {
        "colab": {
          "base_uri": "https://localhost:8080/"
        },
        "id": "3Jy5QoHL3LUI",
        "outputId": "8e76ad62-2e0f-4fff-ecca-719c58925eda"
      },
      "execution_count": null,
      "outputs": [
        {
          "output_type": "stream",
          "name": "stdout",
          "text": [
            "Public URL: NgrokTunnel: \"https://4cf9-34-125-195-0.ngrok-free.app\" -> \"http://localhost:5000\"\n"
          ]
        }
      ]
    },
    {
      "cell_type": "code",
      "source": [
        "import requests\n",
        "\n",
        "# Test using the obtained public URL\n",
        "url = \"https://dcf9-34-125-195-0.ngrok-free.app/predict\"\n",
        "payload = {\n",
        "    \"paid_amount\": 150,\n",
        "    \"paid_currency\": \"USD\",\n",
        "    \"account_suffix\": 12345,\n",
        "    \"applications\": \"Mobile\",\n",
        "    \"payment_method\": \"CreditCard\",\n",
        "    \"payment_month\": \"2023-10\"\n",
        "}\n",
        "response = requests.post(url, json=payload)\n",
        "print(\"Response:\", response.json())"
      ],
      "metadata": {
        "collapsed": true,
        "id": "k_awS6ZB_aa1"
      },
      "execution_count": null,
      "outputs": []
    },
    {
      "cell_type": "code",
      "source": [
        "#Pipeline\n",
        "from sklearn.pipeline import Pipeline\n",
        "from sklearn.compose import ColumnTransformer\n",
        "from sklearn.preprocessing import StandardScaler, OneHotEncoder\n",
        "from sklearn.ensemble import GradientBoostingClassifier\n",
        "import joblib\n",
        "from sklearn.metrics import classification_report\n",
        "\n",
        "\n",
        "# Numerical preprocessing: scaling\n",
        "numerical_features = [\"paid_amount\"]\n",
        "numerical_transformer = StandardScaler()\n",
        "\n",
        "# Categorical preprocessing: one-hot encoding\n",
        "#categorical_features = [\"applications\", \"payment_method\", \"payment_month\"]\n",
        "#categorical_transformer = OneHotEncoder(handle_unknown=\"ignore\")\n",
        "\n",
        "# Combine preprocessing steps\n",
        "preprocessor = ColumnTransformer(\n",
        "    transformers=[\n",
        "        (\"num\", numerical_transformer, numerical_features),\n",
        "        #(\"cat\", categorical_transformer, categorical_features),\n",
        "    ]\n",
        ")\n",
        "\n",
        "#Create the pipeline\n",
        "model = GradientBoostingClassifier() #model initialization\n",
        "\n",
        "# Define the pipeline\n",
        "pipeline = Pipeline(steps=[\n",
        "    (\"preprocessor\", preprocessor),\n",
        "    (\"model\", model)\n",
        "])\n",
        "\n",
        "print(X_train.head())\n",
        "#X_train.head().to_excel(\"X_train.xlsx\", index=False)\n",
        "print(y_train.head())\n",
        "\n",
        "pipeline.fit(X_train, y_train)\n",
        "\n",
        "# Predictions\n",
        "y_pred = pipeline.predict(X_test)\n",
        "\n",
        "# Classification report\n",
        "print(classification_report(y_test, y_pred))\n",
        "\n",
        "# Save the pipeline\n",
        "joblib.dump(pipeline, \"chargeback_pipeline.pkl\")\n",
        "\n",
        "# Load and use the pipeline (future use)\n",
        "loaded_pipeline = joblib.load(\"chargeback_pipeline.pkl\")\n",
        "new_data = ...  # Replace with actual new data\n",
        "predictions = loaded_pipeline.predict(new_data)\n",
        "print(predictions)"
      ],
      "metadata": {
        "id": "5V4ysM3sCqUH",
        "colab": {
          "base_uri": "https://localhost:8080/"
        },
        "outputId": "be2b9314-e243-492e-c25a-69e831304f00"
      },
      "execution_count": 63,
      "outputs": [
        {
          "output_type": "execute_result",
          "data": {
            "text/plain": [
              "['chargeback_pipeline.pkl']"
            ]
          },
          "metadata": {},
          "execution_count": 63
        }
      ]
    }
  ]
}